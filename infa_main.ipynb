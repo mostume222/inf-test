{
  "nbformat": 4,
  "nbformat_minor": 0,
  "metadata": {
    "colab": {
      "provenance": [],
      "include_colab_link": true
    },
    "kernelspec": {
      "name": "python3",
      "display_name": "Python 3"
    },
    "language_info": {
      "name": "python"
    }
  },
  "cells": [
    {
      "cell_type": "markdown",
      "metadata": {
        "id": "view-in-github",
        "colab_type": "text"
      },
      "source": [
        "<a href=\"https://colab.research.google.com/github/mostume222/inf-test/blob/master/infa_main.ipynb\" target=\"_parent\"><img src=\"https://colab.research.google.com/assets/colab-badge.svg\" alt=\"Open In Colab\"/></a>"
      ]
    },
    {
      "cell_type": "markdown",
      "source": [
        "**Step 0.** If for some reason you encounter issues navigating the folders in the project or having errors you can delete the project folder in the online colab environment by using the following code cell. If you are just starting to use this fresh colab notebook skip this step."
      ],
      "metadata": {
        "id": "BQrhkeZQ9fPi"
      }
    },
    {
      "cell_type": "code",
      "execution_count": 1,
      "metadata": {
        "colab": {
          "base_uri": "https://localhost:8080/"
        },
        "id": "srSx4UMl03T7",
        "outputId": "e0c74c43-2630-4b4d-f1dd-6e0aa6f58fed"
      },
      "outputs": [
        {
          "output_type": "stream",
          "name": "stdout",
          "text": [
            "/content\n",
            "sample_data\n",
            "rm: cannot remove 'inf-test/': No such file or directory\n"
          ]
        }
      ],
      "source": [
        "!cd ~\n",
        "!pwd\n",
        "!ls\n",
        "!rm -r inf-test/"
      ]
    },
    {
      "cell_type": "markdown",
      "source": [
        "**Step 1.** Clone github repository from link https://github.com/mostume222/inf-test.git , this will download the source code and also make the correct project structure to tun the compression program."
      ],
      "metadata": {
        "id": "wyYoNtFd6C7c"
      }
    },
    {
      "cell_type": "code",
      "source": [
        "!git clone https://github.com/mostume222/inf-test.git\n",
        "%cd inf-test\n",
        "!git checkout master #go to master branch to have the correct project structure\n",
        "!ls"
      ],
      "metadata": {
        "colab": {
          "base_uri": "https://localhost:8080/"
        },
        "id": "gdpWnTzL7pry",
        "outputId": "16591cde-12ca-475d-f797-f8b397c13910"
      },
      "execution_count": 1,
      "outputs": [
        {
          "output_type": "stream",
          "name": "stdout",
          "text": [
            "Cloning into 'inf-test'...\n",
            "remote: Enumerating objects: 113, done.\u001b[K\n",
            "remote: Counting objects: 100% (113/113), done.\u001b[K\n",
            "remote: Compressing objects: 100% (84/84), done.\u001b[K\n",
            "remote: Total 113 (delta 32), reused 78 (delta 15), pack-reused 0 (from 0)\u001b[K\n",
            "Receiving objects: 100% (113/113), 16.07 MiB | 4.54 MiB/s, done.\n",
            "Resolving deltas: 100% (32/32), done.\n",
            "/content/inf-test\n",
            "Branch 'master' set up to track remote branch 'master' from 'origin'.\n",
            "Switched to a new branch 'master'\n",
            "data  env  infa_main.ipynb  output_compression\tREADME.md  sequences  src\n"
          ]
        }
      ]
    },
    {
      "cell_type": "markdown",
      "source": [
        "**Step 2.** Install the conda environment in /inf-test/env/infa.yml to install dependencies neded to run the compression procedure.\n",
        "\n",
        "If you would like to install your own dependencies, the important ones are:\n",
        "\n",
        "* cd-hit 4.8.1  \n",
        "* bowtie2 2.5.4\n",
        "* cutadapt 3.5\n",
        "* python 3.6.13\n",
        "* perl 5.34.0\n",
        "* pip 21.2.2"
      ],
      "metadata": {
        "id": "DKL6oR9e7hd7"
      }
    },
    {
      "cell_type": "code",
      "source": [
        "#install condacolab\n",
        "!ls\n",
        "!pip install -q condacolab\n",
        "import condacolab\n",
        "condacolab.install()\n",
        "!ls\n",
        "#create conda envionment in infa.yml file\n",
        "!conda env create -f env/infa.yml --quiet\n",
        "!conda env list"
      ],
      "metadata": {
        "colab": {
          "base_uri": "https://localhost:8080/"
        },
        "id": "y7_JSSoG71Bn",
        "outputId": "d9cc534f-9d9f-4c23-95bf-04bc0e20d0a6"
      },
      "execution_count": 2,
      "outputs": [
        {
          "output_type": "stream",
          "name": "stdout",
          "text": [
            "data  env  infa_main.ipynb  output_compression\tREADME.md  sequences  src\n",
            "⏬ Downloading https://github.com/conda-forge/miniforge/releases/download/23.11.0-0/Mambaforge-23.11.0-0-Linux-x86_64.sh...\n",
            "📦 Installing...\n",
            "📌 Adjusting configuration...\n",
            "🩹 Patching environment...\n",
            "⏲ Done in 0:00:12\n",
            "🔁 Restarting kernel...\n",
            "condacolab_install.log\tdata  env  infa_main.ipynb  output_compression\tREADME.md  sequences  src\n",
            "Channels:\n",
            " - defaults\n",
            " - conda-forge\n",
            " - bioconda\n",
            "Platform: linux-64\n",
            "Collecting package metadata (repodata.json): ...working... done\n",
            "Solving environment: ...working... done\n",
            "Preparing transaction: ...working... done\n",
            "Verifying transaction: ...working... done\n",
            "Executing transaction: ...working... done\n",
            "# conda environments:\n",
            "#\n",
            "base                     /usr/local\n",
            "infc                     /usr/local/envs/infc\n",
            "\n"
          ]
        }
      ]
    },
    {
      "cell_type": "markdown",
      "source": [
        "**Step 3. **Run the following cell to run the compression procedure to generate the pangenome sequences of the input sequence.*italicized text*"
      ],
      "metadata": {
        "id": "2L709NnCU9zV"
      }
    },
    {
      "cell_type": "code",
      "source": [
        "#  run the script with conda env\n",
        "%cd /content/inf-test/src/compressor/\n",
        "!source activate infc && ls\n",
        "!chmod +x run_compress.sh\n",
        "!source activate infc && ./run_compress.sh 0.94 0.958 200 50 100000 1,.comp\n"
      ],
      "metadata": {
        "colab": {
          "base_uri": "https://localhost:8080/"
        },
        "id": "6-UX_O9wP-Tm",
        "outputId": "196f82f5-f9c4-480d-9b03-d742689f7231"
      },
      "execution_count": 5,
      "outputs": [
        {
          "output_type": "stream",
          "name": "stdout",
          "text": [
            "/content/inf-test/src/compressor\n",
            "cluster_acc_family.pl\t    divider.pl\t\t       lucas_compressor.sh\n",
            "cluster_acc.pl\t\t    enumerate.pl\t       remove.sh\n",
            "cluster_acc_variant.pl\t    enumerate.py\t       run_compress.sh\n",
            "cluster_element_counter.pl  enumerate.sh\t       uniques_concatenation.pl\n",
            "concat_clusters.sh\t    kmer.pl\t\t       uniques_entanglement.pl\n",
            "concat_clusters_test.sh     label_clusters_variant.sh  uniques_gitrog.pl\n",
            "counter.pl\t\t    lucas_back\t\t       uniques_intanglement.pl\n",
            "count_lenghts_pieces.pl     lucas_compressor_b.sh\n",
            "1,.comp\n",
            "This is cutadapt 3.5 with Python 3.6.13\n",
            "Command line parameters: --max-n 0 -o /content/inf-test/src/compressor/../..//output_compression/1,.comp//kmers_clean.fasta /content/inf-test/src/compressor/../..//output_compression/1,.comp//kmers_w.fasta\n",
            "Processing reads on 1 core in single-end mode ...\n",
            "Done           00:00:02       405,046 reads @   6.1 µs/read;   9.78 M reads/minute\n",
            "Finished in 2.49 s (6 us/read; 9.77 M reads/minute).\n",
            "\n",
            "=== Summary ===\n",
            "\n",
            "Total reads processed:                 405,046\n",
            "\n",
            "== Read fate breakdown ==\n",
            "Reads with too many N:                     840 (0.2%)\n",
            "Reads written (passing filters):       404,206 (99.8%)\n",
            "\n",
            "Total basepairs processed:    81,009,138 bp\n",
            "Total written (filtered):     80,841,138 bp (99.8%)\n",
            "================================================================\n",
            "Program: CD-HIT, V4.8.1 (+OpenMP), Apr 11 2024, 11:47:57\n",
            "Command: cd-hit -i\n",
            "         /content/inf-test/src/compressor/../..//output_compression/1,.comp//kmers_clean.fasta\n",
            "         -o\n",
            "         /content/inf-test/src/compressor/../..//output_compression/1,.comp//result\n",
            "         -c 0.94 -n 5 -M 8000 -T 8 -G 1 -g 1 -sc 1 -aS 0.958\n",
            "\n",
            "Started: Tue Aug 27 00:59:43 2024\n",
            "================================================================\n",
            "                            Output                              \n",
            "----------------------------------------------------------------\n",
            "Warning: total number of CPUs in the system is 2\n",
            "Actual number of CPUs to be used: 2\n",
            "\n",
            "total seq: 404206\n",
            "longest and shortest : 200 and 199\n",
            "Total letters: 80841138\n",
            "Sequences have been sorted\n",
            "\n",
            "Approximated minimal memory consumption:\n",
            "Sequence        : 130M\n",
            "Buffer          : 2 X 20M = 41M\n",
            "Table           : 2 X 71M = 143M\n",
            "Miscellaneous   : 5M\n",
            "Total           : 320M\n",
            "\n",
            "Table limit with the given memory limit:\n",
            "Max number of representatives: 4000000\n",
            "Max number of word counting entries: 959914394\n",
            "\n",
            "# comparing sequences from          0  to     101051\n",
            "..........    10000  finished       1965  clusters\n",
            "^C\n"
          ]
        }
      ]
    },
    {
      "cell_type": "code",
      "source": [
        "#clean\n",
        "!rm -r /content/inf-test/output_compression/1,.comp/"
      ],
      "metadata": {
        "colab": {
          "base_uri": "https://localhost:8080/"
        },
        "id": "KfdC7b_9QUP8",
        "outputId": "d5a0eb87-cac0-4ae2-e33e-59ad00016a6c"
      },
      "execution_count": null,
      "outputs": [
        {
          "output_type": "stream",
          "name": "stdout",
          "text": [
            "rm: cannot remove '/content/inf-test/output_compression/1,.comp/': No such file or directory\n"
          ]
        }
      ]
    }
  ]
}